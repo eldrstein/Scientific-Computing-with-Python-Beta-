{
 "cells": [
  {
   "cell_type": "code",
   "execution_count": null,
   "id": "1c143f98-9f0d-4ce3-9227-0eb497a5f411",
   "metadata": {},
   "outputs": [],
   "source": [
    "NUMBER_OF_DISKS = 5\n",
    "A = list(range(NUMBER_OF_DISKS, 0, -1))\n",
    "B = []\n",
    "C = []\n",
    "\n",
    "def move(n, source, auxiliary, target):\n",
    "    if n <= 0:\n",
    "        return\n",
    "    # move n - 1 disks from source to auxiliary, so they are out of the way\n",
    "    move(n - 1, source, target, auxiliary)\n",
    "    \n",
    "    # move the nth disk from source to target\n",
    "    target.append(source.pop())\n",
    "    \n",
    "    # display our progress\n",
    "    print(A, B, C, '\\n')\n",
    "    \n",
    "    # move the n - 1 disks that we left on auxiliary onto target\n",
    "    move(n - 1,  auxiliary, source, target)\n",
    "           \n",
    "# initiate call from source A to target C with auxiliary B\n",
    "move(NUMBER_OF_DISKS, A, B, C)"
   ]
  }
 ],
 "metadata": {
  "kernelspec": {
   "display_name": "Python 3 (ipykernel)",
   "language": "python",
   "name": "python3"
  },
  "language_info": {
   "codemirror_mode": {
    "name": "ipython",
    "version": 3
   },
   "file_extension": ".py",
   "mimetype": "text/x-python",
   "name": "python",
   "nbconvert_exporter": "python",
   "pygments_lexer": "ipython3",
   "version": "3.12.5"
  }
 },
 "nbformat": 4,
 "nbformat_minor": 5
}
