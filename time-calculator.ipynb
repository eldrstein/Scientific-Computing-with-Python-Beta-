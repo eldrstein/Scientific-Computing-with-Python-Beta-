{
 "cells": [
  {
   "cell_type": "code",
   "execution_count": null,
   "id": "0270b2de-a65a-438b-ad74-453735d6c073",
   "metadata": {},
   "outputs": [],
   "source": [
    "def add_time(start, duration, starting_day=None):\n",
    "    days_of_week = [\"Monday\", \"Tuesday\", \"Wednesday\", \"Thursday\", \"Friday\", \"Saturday\", \"Sunday\"]\n",
    "    \n",
    "    start_hour = int(start.split(':')[0])\n",
    "    start_minutes = int(start.split(':')[1].split(' ')[0])\n",
    "    am_pm = start.split(':')[1].split(' ')[1]\n",
    "    \n",
    "    if am_pm == \"PM\" and start_hour != 12:\n",
    "        start_hour += 12\n",
    "    elif am_pm == \"AM\" and start_hour == 12:\n",
    "        start_hour = 0\n",
    "    \n",
    "    duration_hours = int(duration.split(':')[0])\n",
    "    duration_minutes = int(duration.split(':')[1])\n",
    "    \n",
    "    total_minutes = start_minutes + duration_minutes\n",
    "    total_hours = start_hour + duration_hours + total_minutes // 60\n",
    "    new_minutes = total_minutes % 60\n",
    "    new_hours = total_hours % 24\n",
    "    \n",
    "    period = \"PM\" if new_hours >= 12 else \"AM\"\n",
    "    \n",
    "    new_12_hour = new_hours % 12\n",
    "    new_12_hour = 12 if new_12_hour == 0 else new_12_hour\n",
    "    \n",
    "    days_later = total_hours // 24\n",
    "    \n",
    "    if starting_day:\n",
    "        starting_day = starting_day.capitalize()\n",
    "        day_index = days_of_week.index(starting_day)\n",
    "        new_day_index = (day_index + days_later) % 7\n",
    "        new_day = days_of_week[new_day_index]\n",
    "    \n",
    "    new_time = f\"{new_12_hour}:{new_minutes:02d} {period}\"\n",
    "    \n",
    "    if starting_day:\n",
    "        new_time += f\", {new_day}\"\n",
    "    \n",
    "    if days_later == 1:\n",
    "        new_time += \" (next day)\"\n",
    "    elif days_later > 1:\n",
    "        new_time += f\" ({days_later} days later)\"\n",
    "    \n",
    "    return new_time\n"
   ]
  }
 ],
 "metadata": {
  "kernelspec": {
   "display_name": "Python 3 (ipykernel)",
   "language": "python",
   "name": "python3"
  },
  "language_info": {
   "codemirror_mode": {
    "name": "ipython",
    "version": 3
   },
   "file_extension": ".py",
   "mimetype": "text/x-python",
   "name": "python",
   "nbconvert_exporter": "python",
   "pygments_lexer": "ipython3",
   "version": "3.12.5"
  }
 },
 "nbformat": 4,
 "nbformat_minor": 5
}
