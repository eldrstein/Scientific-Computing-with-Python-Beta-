{
 "cells": [
  {
   "cell_type": "code",
   "execution_count": null,
   "id": "b196834e-5bf5-4b4a-9a76-014af2fa42d5",
   "metadata": {},
   "outputs": [],
   "source": [
    "def square_root_bisection(square_target, tolerance=1e-7, max_iterations=100):\n",
    "    if square_target < 0:\n",
    "        raise ValueError('Square root of negative number is not defined in real numbers')\n",
    "    if square_target == 1:\n",
    "        root = 1\n",
    "        print(f'The square root of {square_target} is 1')\n",
    "    elif square_target == 0:\n",
    "        root = 0\n",
    "        print(f'The square root of {square_target} is 0')\n",
    "\n",
    "    else:\n",
    "        low = 0\n",
    "        high = max(1, square_target)\n",
    "        root = None\n",
    "        \n",
    "        for _ in range(max_iterations):\n",
    "            mid = (low + high) / 2\n",
    "            square_mid = mid**2\n",
    "\n",
    "            if abs(square_mid - square_target) < tolerance:\n",
    "                root = mid\n",
    "                break\n",
    "\n",
    "            elif square_mid < square_target:\n",
    "                low = mid\n",
    "            else:\n",
    "                high = mid\n",
    "\n",
    "        if root is None:\n",
    "            print(f\"Failed to converge within {max_iterations} iterations.\")\n",
    "    \n",
    "        else:   \n",
    "            print(f'The square root of {square_target} is approximately {root}')\n",
    "    \n",
    "    return root"
   ]
  }
 ],
 "metadata": {
  "kernelspec": {
   "display_name": "Python 3 (ipykernel)",
   "language": "python",
   "name": "python3"
  },
  "language_info": {
   "codemirror_mode": {
    "name": "ipython",
    "version": 3
   },
   "file_extension": ".py",
   "mimetype": "text/x-python",
   "name": "python",
   "nbconvert_exporter": "python",
   "pygments_lexer": "ipython3",
   "version": "3.12.5"
  }
 },
 "nbformat": 4,
 "nbformat_minor": 5
}
