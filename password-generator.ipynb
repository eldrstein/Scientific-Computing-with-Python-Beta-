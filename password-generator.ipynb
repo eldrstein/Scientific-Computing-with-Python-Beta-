{
 "cells": [
  {
   "cell_type": "code",
   "execution_count": null,
   "id": "db010121-7877-499d-a5fb-6758ff19ad0f",
   "metadata": {},
   "outputs": [],
   "source": [
    "import re\n",
    "import secrets\n",
    "import string\n",
    "\n",
    "\n",
    "def generate_password(length=16, nums=1, special_chars=1, uppercase=1, lowercase=1):\n",
    "\n",
    "    # Define the possible characters for the password\n",
    "    letters = string.ascii_letters\n",
    "    digits = string.digits\n",
    "    symbols = string.punctuation\n",
    "\n",
    "    # Combine all characters\n",
    "    all_characters = letters + digits + symbols\n",
    "\n",
    "    while True:\n",
    "        password = ''\n",
    "        # Generate password\n",
    "        for _ in range(length):\n",
    "            password += secrets.choice(all_characters)\n",
    "        \n",
    "        constraints = [\n",
    "            (nums, r'\\d'),\n",
    "            (special_chars, fr'[{symbols}]'),\n",
    "            (uppercase, r'[A-Z]'),\n",
    "            (lowercase, r'[a-z]')\n",
    "        ]\n",
    "\n",
    "        # Check constraints        \n",
    "        if all(\n",
    "            constraint <= len(re.findall(pattern, password))\n",
    "            for constraint, pattern in constraints\n",
    "        ):\n",
    "            break\n",
    "    \n",
    "    return password\n",
    "    \n",
    "if __name__ == '__main__':\n",
    "    new_password = generate_password()\n",
    "    print('Generated password:', new_password)"
   ]
  }
 ],
 "metadata": {
  "kernelspec": {
   "display_name": "Python 3 (ipykernel)",
   "language": "python",
   "name": "python3"
  },
  "language_info": {
   "codemirror_mode": {
    "name": "ipython",
    "version": 3
   },
   "file_extension": ".py",
   "mimetype": "text/x-python",
   "name": "python",
   "nbconvert_exporter": "python",
   "pygments_lexer": "ipython3",
   "version": "3.12.5"
  }
 },
 "nbformat": 4,
 "nbformat_minor": 5
}
