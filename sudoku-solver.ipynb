{
 "cells": [
  {
   "cell_type": "code",
   "execution_count": 1,
   "id": "b63ff66e-ad29-4a21-9044-2940dc67bf56",
   "metadata": {},
   "outputs": [
    {
     "name": "stdout",
     "output_type": "stream",
     "text": [
      "Puzzle to solve:\n",
      "* * 2 * * 8 * * *\n",
      "* * * * * 3 7 6 2\n",
      "4 3 * * * * 8 * *\n",
      "* 5 * * 3 * * 9 *\n",
      "* 4 * * * * * 2 6\n",
      "* * * 4 6 7 * * *\n",
      "* 8 6 7 * 4 * * *\n",
      "* * * 5 1 9 * * 8\n",
      "1 7 * * * 6 * * 5\n",
      "\n",
      "Solved puzzle:\n",
      "9 6 2 1 7 8 3 5 4\n",
      "8 1 5 9 4 3 7 6 2\n",
      "4 3 7 6 5 2 8 1 9\n",
      "6 5 8 2 3 1 4 9 7\n",
      "7 4 3 8 9 5 1 2 6\n",
      "2 9 1 4 6 7 5 8 3\n",
      "5 8 6 7 2 4 9 3 1\n",
      "3 2 4 5 1 9 6 7 8\n",
      "1 7 9 3 8 6 2 4 5\n",
      "\n"
     ]
    },
    {
     "data": {
      "text/plain": [
       "<__main__.Board at 0x203835212e0>"
      ]
     },
     "execution_count": 1,
     "metadata": {},
     "output_type": "execute_result"
    }
   ],
   "source": [
    "class Board:\n",
    "    def __init__(self, board):\n",
    "        self.board = board\n",
    "\n",
    "    def __str__(self):\n",
    "        board_str = ''\n",
    "        for row in self.board:\n",
    "            row_str = [str(i) if i else '*' for i in row]\n",
    "            board_str += ' '.join(row_str)\n",
    "            board_str += '\\n'\n",
    "        return board_str\n",
    "\n",
    "    def find_empty_cell(self):\n",
    "        for row, contents in enumerate(self.board):\n",
    "            try:\n",
    "                col = contents.index(0)\n",
    "                return row, col\n",
    "            except ValueError:\n",
    "                pass\n",
    "        return None\n",
    "\n",
    "    def valid_in_row(self, row, num):\n",
    "        return num not in self.board[row]\n",
    "\n",
    "    def valid_in_col(self, col, num):\n",
    "        return all(self.board[row][col] != num for row in range(9))\n",
    "\n",
    "    def valid_in_square(self, row, col, num):\n",
    "        row_start = (row // 3) * 3\n",
    "        col_start = (col // 3) * 3\n",
    "        for row_no in range(row_start, row_start + 3):\n",
    "            for col_no in range(col_start, col_start + 3):\n",
    "                if self.board[row_no][col_no] == num:\n",
    "                    return False\n",
    "        return True\n",
    "\n",
    "    def is_valid(self, empty, num):\n",
    "        row, col = empty\n",
    "        valid_in_row = self.valid_in_row(row, num)\n",
    "        valid_in_col = self.valid_in_col(col, num)\n",
    "        valid_in_square = self.valid_in_square(row, col, num)\n",
    "        return all([valid_in_row, valid_in_col, valid_in_square])\n",
    "\n",
    "    def solver(self):\n",
    "        if (next_empty := self.find_empty_cell()) is None:\n",
    "            return True\n",
    "        for guess in range(1, 10):\n",
    "            if self.is_valid(next_empty, guess):\n",
    "                row, col = next_empty\n",
    "                self.board[row][col] = guess\n",
    "                if self.solver():\n",
    "                    return True\n",
    "                self.board[row][col] = 0\n",
    "        return False\n",
    "\n",
    "def solve_sudoku(board):\n",
    "    gameboard = Board(board)\n",
    "    print(f'Puzzle to solve:\\n{gameboard}')\n",
    "    if gameboard.solver():\n",
    "        print(f'Solved puzzle:\\n{gameboard}')\n",
    "    else:\n",
    "        print('The provided puzzle is unsolvable.')\n",
    "    return gameboard\n",
    "\n",
    "puzzle = [\n",
    "  [0, 0, 2, 0, 0, 8, 0, 0, 0],\n",
    "  [0, 0, 0, 0, 0, 3, 7, 6, 2],\n",
    "  [4, 3, 0, 0, 0, 0, 8, 0, 0],\n",
    "  [0, 5, 0, 0, 3, 0, 0, 9, 0],\n",
    "  [0, 4, 0, 0, 0, 0, 0, 2, 6],\n",
    "  [0, 0, 0, 4, 6, 7, 0, 0, 0],\n",
    "  [0, 8, 6, 7, 0, 4, 0, 0, 0],\n",
    "  [0, 0, 0, 5, 1, 9, 0, 0, 8],\n",
    "  [1, 7, 0, 0, 0, 6, 0, 0, 5]\n",
    "]\n",
    "solve_sudoku(puzzle)"
   ]
  },
  {
   "cell_type": "code",
   "execution_count": null,
   "id": "50e47a1f-fe10-4f68-a51f-446636daa59b",
   "metadata": {},
   "outputs": [],
   "source": []
  }
 ],
 "metadata": {
  "kernelspec": {
   "display_name": "Python 3 (ipykernel)",
   "language": "python",
   "name": "python3"
  },
  "language_info": {
   "codemirror_mode": {
    "name": "ipython",
    "version": 3
   },
   "file_extension": ".py",
   "mimetype": "text/x-python",
   "name": "python",
   "nbconvert_exporter": "python",
   "pygments_lexer": "ipython3",
   "version": "3.12.5"
  }
 },
 "nbformat": 4,
 "nbformat_minor": 5
}
