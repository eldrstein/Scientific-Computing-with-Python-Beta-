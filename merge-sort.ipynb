{
 "cells": [
  {
   "cell_type": "code",
   "execution_count": null,
   "id": "c87390bf-2c90-4732-8374-0b443f312a58",
   "metadata": {},
   "outputs": [],
   "source": [
    "def merge_sort(array):\n",
    "    if len(array) <= 1:\n",
    "        return\n",
    "    \n",
    "    middle_point = len(array) // 2\n",
    "    left_part = array[:middle_point]\n",
    "    right_part = array[middle_point:]\n",
    "\n",
    "    merge_sort(left_part)\n",
    "    merge_sort(right_part)\n",
    "\n",
    "    left_array_index = 0\n",
    "    right_array_index = 0\n",
    "    sorted_index = 0\n",
    "\n",
    "    while left_array_index < len(left_part) and right_array_index < len(right_part):\n",
    "        if left_part[left_array_index] < right_part[right_array_index]:\n",
    "            array[sorted_index] = left_part[left_array_index]\n",
    "            left_array_index += 1\n",
    "        else:\n",
    "            array[sorted_index] = right_part[right_array_index]\n",
    "            right_array_index += 1\n",
    "        sorted_index += 1\n",
    "\n",
    "    while left_array_index < len(left_part):\n",
    "        array[sorted_index] = left_part[left_array_index]\n",
    "        left_array_index += 1\n",
    "        sorted_index += 1\n",
    "    \n",
    "    while right_array_index < len(right_part):\n",
    "        array[sorted_index] = right_part[right_array_index]\n",
    "        right_array_index += 1\n",
    "        sorted_index += 1\n",
    "\n",
    "\n",
    "if __name__ == '__main__':\n",
    "    numbers = [4, 10, 6, 14, 2, 1, 8, 5]\n",
    "    print('Unsorted array: ')\n",
    "    print(numbers)\n",
    "    merge_sort(numbers)\n",
    "    print('Sorted array: ' + str(numbers))"
   ]
  }
 ],
 "metadata": {
  "kernelspec": {
   "display_name": "Python 3 (ipykernel)",
   "language": "python",
   "name": "python3"
  },
  "language_info": {
   "codemirror_mode": {
    "name": "ipython",
    "version": 3
   },
   "file_extension": ".py",
   "mimetype": "text/x-python",
   "name": "python",
   "nbconvert_exporter": "python",
   "pygments_lexer": "ipython3",
   "version": "3.12.5"
  }
 },
 "nbformat": 4,
 "nbformat_minor": 5
}
