{
 "cells": [
  {
   "cell_type": "code",
   "execution_count": null,
   "id": "180e496b-6c84-4ee2-ad6e-2cd98859db8e",
   "metadata": {},
   "outputs": [],
   "source": [
    "my_graph = {\n",
    "    'A': [('B', 5), ('C', 3), ('E', 11)],\n",
    "    'B': [('A', 5), ('C', 1), ('F', 2)],\n",
    "    'C': [('A', 3), ('B', 1), ('D', 1), ('E', 5)],\n",
    "    'D': [('C',1 ), ('E', 9), ('F', 3)],\n",
    "    'E': [('A', 11), ('C', 5), ('D', 9)],\n",
    "    'F': [('B', 2), ('D', 3)]\n",
    "}\n",
    "\n",
    "def shortest_path(graph, start, target = ''):\n",
    "    unvisited = list(graph)\n",
    "    distances = {node: 0 if node == start else float('inf') for node in graph}\n",
    "    paths = {node: [] for node in graph}\n",
    "    paths[start].append(start)\n",
    "    \n",
    "    while unvisited:\n",
    "        current = min(unvisited, key=distances.get)\n",
    "        for node, distance in graph[current]:\n",
    "            if distance + distances[current] < distances[node]:\n",
    "                distances[node] = distance + distances[current]\n",
    "                if paths[node] and paths[node][-1] == node:\n",
    "                    paths[node] = paths[current][:]\n",
    "                else:\n",
    "                    paths[node].extend(paths[current])\n",
    "                paths[node].append(node)\n",
    "        unvisited.remove(current)\n",
    "    \n",
    "    targets_to_print = [target] if target else graph\n",
    "    for node in targets_to_print:\n",
    "        if node == start:\n",
    "            continue\n",
    "        print(f'\\n{start}-{node} distance: {distances[node]}\\nPath: {\" -> \".join(paths[node])}')\n",
    "    \n",
    "    return distances, paths\n",
    "    \n",
    "shortest_path(my_graph, 'A', 'F')"
   ]
  }
 ],
 "metadata": {
  "kernelspec": {
   "display_name": "Python 3 (ipykernel)",
   "language": "python",
   "name": "python3"
  },
  "language_info": {
   "codemirror_mode": {
    "name": "ipython",
    "version": 3
   },
   "file_extension": ".py",
   "mimetype": "text/x-python",
   "name": "python",
   "nbconvert_exporter": "python",
   "pygments_lexer": "ipython3",
   "version": "3.12.5"
  }
 },
 "nbformat": 4,
 "nbformat_minor": 5
}
