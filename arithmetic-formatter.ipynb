{
 "cells": [
  {
   "cell_type": "code",
   "execution_count": null,
   "id": "994f2f7a-8d22-4048-9b77-df948e29bd65",
   "metadata": {},
   "outputs": [],
   "source": [
    "def arithmetic_arranger(problems, display_answers=False):\n",
    "    # Error handling\n",
    "    if len(problems) > 5:\n",
    "        return \"Error: Too many problems.\"\n",
    "\n",
    "    first_operands = []\n",
    "    second_operands = []\n",
    "    operators = []\n",
    "    dashes = []\n",
    "    results = []\n",
    "\n",
    "    for problem in problems:\n",
    "        parts = problem.split()\n",
    "\n",
    "        if parts[1] not in ['+', '-']:\n",
    "            return \"Error: Operator must be '+' or '-'.\"\n",
    "        if not (parts[0].isdigit() and parts[2].isdigit()):\n",
    "            return \"Error: Numbers must only contain digits.\"\n",
    "        if len(parts[0]) > 4 or len(parts[2]) > 4:\n",
    "            return \"Error: Numbers cannot be more than four digits.\"\n",
    "\n",
    "        first_operand = parts[0]\n",
    "        operator = parts[1]\n",
    "        second_operand = parts[2]\n",
    "        if operator == '+':\n",
    "            result = str(int(first_operand) + int(second_operand))\n",
    "        else:\n",
    "            result = str(int(first_operand) - int(second_operand))\n",
    "\n",
    "        width = max(len(first_operand), len(second_operand)) + 2\n",
    "        first_operands.append(first_operand.rjust(width))\n",
    "        second_operands.append(operator + second_operand.rjust(width - 1))\n",
    "        dashes.append('-' * width)\n",
    "        results.append(result.rjust(width))\n",
    "\n",
    "    arranged_problems = '    '.join(first_operands) + '\\n' + '    '.join(second_operands) + '\\n' + '    '.join(dashes)\n",
    "    \n",
    "    if display_answers:\n",
    "        arranged_problems += '\\n' + '    '.join(results)\n",
    "\n",
    "    return arranged_problems\n"
   ]
  }
 ],
 "metadata": {
  "kernelspec": {
   "display_name": "Python 3 (ipykernel)",
   "language": "python",
   "name": "python3"
  },
  "language_info": {
   "codemirror_mode": {
    "name": "ipython",
    "version": 3
   },
   "file_extension": ".py",
   "mimetype": "text/x-python",
   "name": "python",
   "nbconvert_exporter": "python",
   "pygments_lexer": "ipython3",
   "version": "3.12.5"
  }
 },
 "nbformat": 4,
 "nbformat_minor": 5
}
